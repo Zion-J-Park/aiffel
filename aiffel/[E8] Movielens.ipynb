{
 "metadata": {
  "language_info": {
   "codemirror_mode": {
    "name": "ipython",
    "version": 3
   },
   "file_extension": ".py",
   "mimetype": "text/x-python",
   "name": "python",
   "nbconvert_exporter": "python",
   "pygments_lexer": "ipython3",
   "version": "3.7.9-final"
  },
  "orig_nbformat": 2,
  "kernelspec": {
   "name": "python3",
   "display_name": "Python 3",
   "language": "python"
  }
 },
 "nbformat": 4,
 "nbformat_minor": 2,
 "cells": [
  {
   "source": [
    "# 영화추천 AI\n",
    "\n",
    "## 1.데이터 준비\n",
    "\n",
    "### (1)데이터 전처리"
   ],
   "cell_type": "markdown",
   "metadata": {}
  },
  {
   "cell_type": "code",
   "execution_count": 84,
   "metadata": {},
   "outputs": [
    {
     "output_type": "execute_result",
     "data": {
      "text/plain": [
       "   user_id  movie_id  rating  timestamp\n",
       "0        1      1193       5  978300760\n",
       "1        1       661       3  978302109\n",
       "2        1       914       3  978301968\n",
       "3        1      3408       4  978300275\n",
       "4        1      2355       5  978824291"
      ],
      "text/html": "<div>\n<style scoped>\n    .dataframe tbody tr th:only-of-type {\n        vertical-align: middle;\n    }\n\n    .dataframe tbody tr th {\n        vertical-align: top;\n    }\n\n    .dataframe thead th {\n        text-align: right;\n    }\n</style>\n<table border=\"1\" class=\"dataframe\">\n  <thead>\n    <tr style=\"text-align: right;\">\n      <th></th>\n      <th>user_id</th>\n      <th>movie_id</th>\n      <th>rating</th>\n      <th>timestamp</th>\n    </tr>\n  </thead>\n  <tbody>\n    <tr>\n      <th>0</th>\n      <td>1</td>\n      <td>1193</td>\n      <td>5</td>\n      <td>978300760</td>\n    </tr>\n    <tr>\n      <th>1</th>\n      <td>1</td>\n      <td>661</td>\n      <td>3</td>\n      <td>978302109</td>\n    </tr>\n    <tr>\n      <th>2</th>\n      <td>1</td>\n      <td>914</td>\n      <td>3</td>\n      <td>978301968</td>\n    </tr>\n    <tr>\n      <th>3</th>\n      <td>1</td>\n      <td>3408</td>\n      <td>4</td>\n      <td>978300275</td>\n    </tr>\n    <tr>\n      <th>4</th>\n      <td>1</td>\n      <td>2355</td>\n      <td>5</td>\n      <td>978824291</td>\n    </tr>\n  </tbody>\n</table>\n</div>"
     },
     "metadata": {},
     "execution_count": 84
    }
   ],
   "source": [
    "import os\n",
    "import pandas as pd\n",
    "\n",
    "rating_file_path=os.getenv('HOME') + '/workplace/aiffel/recommendata_iu/data/ml-1m/ratings.dat'\n",
    "ratings_cols = ['user_id', 'movie_id', 'rating', 'timestamp']\n",
    "ratings = pd.read_csv(rating_file_path, sep='::', names=ratings_cols, engine='python')\n",
    "orginal_data_size = len(ratings)\n",
    "ratings.head()\n"
   ]
  },
  {
   "source": [
    "좋아하는 영화를 추천하는 것이기 때문에 3이상만 남깁니다."
   ],
   "cell_type": "markdown",
   "metadata": {}
  },
  {
   "cell_type": "code",
   "execution_count": 85,
   "metadata": {},
   "outputs": [
    {
     "output_type": "stream",
     "name": "stdout",
     "text": [
      "orginal_data_size: 1000209, filtered_data_size: 836478\nRatio of Remaining Data is 83.63%\n"
     ]
    }
   ],
   "source": [
    "# 3점 이상만 남깁니다.\n",
    "ratings = ratings[ratings['rating']>=3]\n",
    "filtered_data_size = len(ratings)\n",
    "\n",
    "print(f'orginal_data_size: {orginal_data_size}, filtered_data_size: {filtered_data_size}')\n",
    "print(f'Ratio of Remaining Data is {filtered_data_size / orginal_data_size:.2%}')"
   ]
  },
  {
   "cell_type": "code",
   "execution_count": 86,
   "metadata": {},
   "outputs": [],
   "source": [
    "# rating 컬럼의 이름을 count로 바꿉니다.\n",
    "ratings.rename(columns={'rating':'count'}, inplace=True)"
   ]
  },
  {
   "cell_type": "code",
   "execution_count": 87,
   "metadata": {},
   "outputs": [
    {
     "output_type": "display_data",
     "data": {
      "text/plain": "         user_id  movie_id  count  timestamp\n0              1      1193      5  978300760\n1              1       661      3  978302109\n2              1       914      3  978301968\n3              1      3408      4  978300275\n4              1      2355      5  978824291\n...          ...       ...    ...        ...\n1000203     6040      1090      3  956715518\n1000205     6040      1094      5  956704887\n1000206     6040       562      5  956704746\n1000207     6040      1096      4  956715648\n1000208     6040      1097      4  956715569\n\n[836478 rows x 4 columns]",
      "text/html": "<div>\n<style scoped>\n    .dataframe tbody tr th:only-of-type {\n        vertical-align: middle;\n    }\n\n    .dataframe tbody tr th {\n        vertical-align: top;\n    }\n\n    .dataframe thead th {\n        text-align: right;\n    }\n</style>\n<table border=\"1\" class=\"dataframe\">\n  <thead>\n    <tr style=\"text-align: right;\">\n      <th></th>\n      <th>user_id</th>\n      <th>movie_id</th>\n      <th>count</th>\n      <th>timestamp</th>\n    </tr>\n  </thead>\n  <tbody>\n    <tr>\n      <th>0</th>\n      <td>1</td>\n      <td>1193</td>\n      <td>5</td>\n      <td>978300760</td>\n    </tr>\n    <tr>\n      <th>1</th>\n      <td>1</td>\n      <td>661</td>\n      <td>3</td>\n      <td>978302109</td>\n    </tr>\n    <tr>\n      <th>2</th>\n      <td>1</td>\n      <td>914</td>\n      <td>3</td>\n      <td>978301968</td>\n    </tr>\n    <tr>\n      <th>3</th>\n      <td>1</td>\n      <td>3408</td>\n      <td>4</td>\n      <td>978300275</td>\n    </tr>\n    <tr>\n      <th>4</th>\n      <td>1</td>\n      <td>2355</td>\n      <td>5</td>\n      <td>978824291</td>\n    </tr>\n    <tr>\n      <th>...</th>\n      <td>...</td>\n      <td>...</td>\n      <td>...</td>\n      <td>...</td>\n    </tr>\n    <tr>\n      <th>1000203</th>\n      <td>6040</td>\n      <td>1090</td>\n      <td>3</td>\n      <td>956715518</td>\n    </tr>\n    <tr>\n      <th>1000205</th>\n      <td>6040</td>\n      <td>1094</td>\n      <td>5</td>\n      <td>956704887</td>\n    </tr>\n    <tr>\n      <th>1000206</th>\n      <td>6040</td>\n      <td>562</td>\n      <td>5</td>\n      <td>956704746</td>\n    </tr>\n    <tr>\n      <th>1000207</th>\n      <td>6040</td>\n      <td>1096</td>\n      <td>4</td>\n      <td>956715648</td>\n    </tr>\n    <tr>\n      <th>1000208</th>\n      <td>6040</td>\n      <td>1097</td>\n      <td>4</td>\n      <td>956715569</td>\n    </tr>\n  </tbody>\n</table>\n<p>836478 rows × 4 columns</p>\n</div>"
     },
     "metadata": {}
    }
   ],
   "source": [
    "ratings['count']\n",
    "ratings = pd.DataFrame(ratings)\n",
    "display(ratings)"
   ]
  },
  {
   "cell_type": "code",
   "execution_count": 88,
   "metadata": {},
   "outputs": [
    {
     "output_type": "execute_result",
     "data": {
      "text/plain": [
       "    movie_id                                              title  \\\n",
       "0          1                                   Toy Story (1995)   \n",
       "1          2                                     Jumanji (1995)   \n",
       "2          3                            Grumpier Old Men (1995)   \n",
       "3          4                           Waiting to Exhale (1995)   \n",
       "4          5                 Father of the Bride Part II (1995)   \n",
       "5          6                                        Heat (1995)   \n",
       "6          7                                     Sabrina (1995)   \n",
       "7          8                                Tom and Huck (1995)   \n",
       "8          9                                Sudden Death (1995)   \n",
       "9         10                                   GoldenEye (1995)   \n",
       "10        11                     American President, The (1995)   \n",
       "11        12                 Dracula: Dead and Loving It (1995)   \n",
       "12        13                                       Balto (1995)   \n",
       "13        14                                       Nixon (1995)   \n",
       "14        15                            Cutthroat Island (1995)   \n",
       "15        16                                      Casino (1995)   \n",
       "16        17                       Sense and Sensibility (1995)   \n",
       "17        18                                  Four Rooms (1995)   \n",
       "18        19              Ace Ventura: When Nature Calls (1995)   \n",
       "19        20                                 Money Train (1995)   \n",
       "20        21                                  Get Shorty (1995)   \n",
       "21        22                                     Copycat (1995)   \n",
       "22        23                                   Assassins (1995)   \n",
       "23        24                                      Powder (1995)   \n",
       "24        25                           Leaving Las Vegas (1995)   \n",
       "25        26                                     Othello (1995)   \n",
       "26        27                                Now and Then (1995)   \n",
       "27        28                                  Persuasion (1995)   \n",
       "28        29                  City of Lost Children, The (1995)   \n",
       "29        30  Shanghai Triad (Yao a yao yao dao waipo qiao) ...   \n",
       "\n",
       "                           genre  \n",
       "0    Animation|Children's|Comedy  \n",
       "1   Adventure|Children's|Fantasy  \n",
       "2                 Comedy|Romance  \n",
       "3                   Comedy|Drama  \n",
       "4                         Comedy  \n",
       "5          Action|Crime|Thriller  \n",
       "6                 Comedy|Romance  \n",
       "7           Adventure|Children's  \n",
       "8                         Action  \n",
       "9      Action|Adventure|Thriller  \n",
       "10          Comedy|Drama|Romance  \n",
       "11                 Comedy|Horror  \n",
       "12          Animation|Children's  \n",
       "13                         Drama  \n",
       "14      Action|Adventure|Romance  \n",
       "15                Drama|Thriller  \n",
       "16                 Drama|Romance  \n",
       "17                      Thriller  \n",
       "18                        Comedy  \n",
       "19                        Action  \n",
       "20           Action|Comedy|Drama  \n",
       "21          Crime|Drama|Thriller  \n",
       "22                      Thriller  \n",
       "23                  Drama|Sci-Fi  \n",
       "24                 Drama|Romance  \n",
       "25                         Drama  \n",
       "26                         Drama  \n",
       "27                       Romance  \n",
       "28              Adventure|Sci-Fi  \n",
       "29                         Drama  "
      ],
      "text/html": "<div>\n<style scoped>\n    .dataframe tbody tr th:only-of-type {\n        vertical-align: middle;\n    }\n\n    .dataframe tbody tr th {\n        vertical-align: top;\n    }\n\n    .dataframe thead th {\n        text-align: right;\n    }\n</style>\n<table border=\"1\" class=\"dataframe\">\n  <thead>\n    <tr style=\"text-align: right;\">\n      <th></th>\n      <th>movie_id</th>\n      <th>title</th>\n      <th>genre</th>\n    </tr>\n  </thead>\n  <tbody>\n    <tr>\n      <th>0</th>\n      <td>1</td>\n      <td>Toy Story (1995)</td>\n      <td>Animation|Children's|Comedy</td>\n    </tr>\n    <tr>\n      <th>1</th>\n      <td>2</td>\n      <td>Jumanji (1995)</td>\n      <td>Adventure|Children's|Fantasy</td>\n    </tr>\n    <tr>\n      <th>2</th>\n      <td>3</td>\n      <td>Grumpier Old Men (1995)</td>\n      <td>Comedy|Romance</td>\n    </tr>\n    <tr>\n      <th>3</th>\n      <td>4</td>\n      <td>Waiting to Exhale (1995)</td>\n      <td>Comedy|Drama</td>\n    </tr>\n    <tr>\n      <th>4</th>\n      <td>5</td>\n      <td>Father of the Bride Part II (1995)</td>\n      <td>Comedy</td>\n    </tr>\n    <tr>\n      <th>5</th>\n      <td>6</td>\n      <td>Heat (1995)</td>\n      <td>Action|Crime|Thriller</td>\n    </tr>\n    <tr>\n      <th>6</th>\n      <td>7</td>\n      <td>Sabrina (1995)</td>\n      <td>Comedy|Romance</td>\n    </tr>\n    <tr>\n      <th>7</th>\n      <td>8</td>\n      <td>Tom and Huck (1995)</td>\n      <td>Adventure|Children's</td>\n    </tr>\n    <tr>\n      <th>8</th>\n      <td>9</td>\n      <td>Sudden Death (1995)</td>\n      <td>Action</td>\n    </tr>\n    <tr>\n      <th>9</th>\n      <td>10</td>\n      <td>GoldenEye (1995)</td>\n      <td>Action|Adventure|Thriller</td>\n    </tr>\n    <tr>\n      <th>10</th>\n      <td>11</td>\n      <td>American President, The (1995)</td>\n      <td>Comedy|Drama|Romance</td>\n    </tr>\n    <tr>\n      <th>11</th>\n      <td>12</td>\n      <td>Dracula: Dead and Loving It (1995)</td>\n      <td>Comedy|Horror</td>\n    </tr>\n    <tr>\n      <th>12</th>\n      <td>13</td>\n      <td>Balto (1995)</td>\n      <td>Animation|Children's</td>\n    </tr>\n    <tr>\n      <th>13</th>\n      <td>14</td>\n      <td>Nixon (1995)</td>\n      <td>Drama</td>\n    </tr>\n    <tr>\n      <th>14</th>\n      <td>15</td>\n      <td>Cutthroat Island (1995)</td>\n      <td>Action|Adventure|Romance</td>\n    </tr>\n    <tr>\n      <th>15</th>\n      <td>16</td>\n      <td>Casino (1995)</td>\n      <td>Drama|Thriller</td>\n    </tr>\n    <tr>\n      <th>16</th>\n      <td>17</td>\n      <td>Sense and Sensibility (1995)</td>\n      <td>Drama|Romance</td>\n    </tr>\n    <tr>\n      <th>17</th>\n      <td>18</td>\n      <td>Four Rooms (1995)</td>\n      <td>Thriller</td>\n    </tr>\n    <tr>\n      <th>18</th>\n      <td>19</td>\n      <td>Ace Ventura: When Nature Calls (1995)</td>\n      <td>Comedy</td>\n    </tr>\n    <tr>\n      <th>19</th>\n      <td>20</td>\n      <td>Money Train (1995)</td>\n      <td>Action</td>\n    </tr>\n    <tr>\n      <th>20</th>\n      <td>21</td>\n      <td>Get Shorty (1995)</td>\n      <td>Action|Comedy|Drama</td>\n    </tr>\n    <tr>\n      <th>21</th>\n      <td>22</td>\n      <td>Copycat (1995)</td>\n      <td>Crime|Drama|Thriller</td>\n    </tr>\n    <tr>\n      <th>22</th>\n      <td>23</td>\n      <td>Assassins (1995)</td>\n      <td>Thriller</td>\n    </tr>\n    <tr>\n      <th>23</th>\n      <td>24</td>\n      <td>Powder (1995)</td>\n      <td>Drama|Sci-Fi</td>\n    </tr>\n    <tr>\n      <th>24</th>\n      <td>25</td>\n      <td>Leaving Las Vegas (1995)</td>\n      <td>Drama|Romance</td>\n    </tr>\n    <tr>\n      <th>25</th>\n      <td>26</td>\n      <td>Othello (1995)</td>\n      <td>Drama</td>\n    </tr>\n    <tr>\n      <th>26</th>\n      <td>27</td>\n      <td>Now and Then (1995)</td>\n      <td>Drama</td>\n    </tr>\n    <tr>\n      <th>27</th>\n      <td>28</td>\n      <td>Persuasion (1995)</td>\n      <td>Romance</td>\n    </tr>\n    <tr>\n      <th>28</th>\n      <td>29</td>\n      <td>City of Lost Children, The (1995)</td>\n      <td>Adventure|Sci-Fi</td>\n    </tr>\n    <tr>\n      <th>29</th>\n      <td>30</td>\n      <td>Shanghai Triad (Yao a yao yao dao waipo qiao) ...</td>\n      <td>Drama</td>\n    </tr>\n  </tbody>\n</table>\n</div>"
     },
     "metadata": {},
     "execution_count": 88
    }
   ],
   "source": [
    "# 영화 제목을 보기 위해 메타 데이터를 읽어옵니다.\n",
    "movie_file_path=os.getenv('HOME') + '/workplace/aiffel/recommendata_iu/data/ml-1m/movies.dat'\n",
    "cols = ['movie_id', 'title', 'genre'] \n",
    "movies = pd.read_csv(movie_file_path, sep='::', names=cols, engine='python', encoding = 'ISO-8859-1')\n",
    "movies.head(30)"
   ]
  },
  {
   "source": [
    "### (2)데이터 분석\n",
    "\n",
    "유저의 수와 영화의 수를 살펴봅니다."
   ],
   "cell_type": "markdown",
   "metadata": {}
  },
  {
   "cell_type": "code",
   "execution_count": 89,
   "metadata": {},
   "outputs": [
    {
     "output_type": "execute_result",
     "data": {
      "text/plain": [
       "3628"
      ]
     },
     "metadata": {},
     "execution_count": 89
    }
   ],
   "source": [
    "# 영화 수\n",
    "ratings['movie_id'].nunique()"
   ]
  },
  {
   "cell_type": "code",
   "execution_count": 90,
   "metadata": {},
   "outputs": [
    {
     "output_type": "execute_result",
     "data": {
      "text/plain": [
       "6039"
      ]
     },
     "metadata": {},
     "execution_count": 90
    }
   ],
   "source": [
    "# 유저 수\n",
    "ratings['user_id'].nunique()"
   ]
  },
  {
   "cell_type": "code",
   "execution_count": 91,
   "metadata": {},
   "outputs": [
    {
     "output_type": "execute_result",
     "data": {
      "text/plain": [
       "movie_id\n",
       "2858    3211\n",
       "260     2910\n",
       "1196    2885\n",
       "1210    2716\n",
       "2028    2561\n",
       "589     2509\n",
       "593     2498\n",
       "1198    2473\n",
       "1270    2460\n",
       "2571    2434\n",
       "480     2413\n",
       "2762    2385\n",
       "608     2371\n",
       "110     2314\n",
       "1580    2297\n",
       "527     2257\n",
       "1197    2252\n",
       "2396    2213\n",
       "1617    2210\n",
       "318     2194\n",
       "858     2167\n",
       "1265    2121\n",
       "1097    2102\n",
       "2997    2066\n",
       "2716    2051\n",
       "296     2030\n",
       "356     2022\n",
       "1240    2019\n",
       "1       2000\n",
       "457     1941\n",
       "Name: count, dtype: int64"
      ]
     },
     "metadata": {},
     "execution_count": 91
    }
   ],
   "source": [
    "# 가장 인기있는 영화 30개 (인기순)\n",
    "movie_count = ratings.groupby('movie_id')['count'].count()\n",
    "movie_count.sort_values(ascending=False).head(30)"
   ]
  },
  {
   "cell_type": "code",
   "execution_count": 92,
   "metadata": {},
   "outputs": [
    {
     "output_type": "execute_result",
     "data": {
      "text/plain": [
       "count    6039.000000\n",
       "mean      138.512668\n",
       "std       156.241599\n",
       "min         1.000000\n",
       "25%        38.000000\n",
       "50%        81.000000\n",
       "75%       177.000000\n",
       "max      1968.000000\n",
       "Name: movie_id, dtype: float64"
      ]
     },
     "metadata": {},
     "execution_count": 92
    }
   ],
   "source": [
    "# 유저별 몇 개의 영화를 보고 있는지에 대한 통계\n",
    "user_count = ratings.groupby('user_id')['movie_id'].count()\n",
    "user_count.describe()"
   ]
  },
  {
   "cell_type": "code",
   "execution_count": 93,
   "metadata": {},
   "outputs": [
    {
     "output_type": "execute_result",
     "data": {
      "text/plain": [
       "count    6039.000000\n",
       "mean        4.055970\n",
       "std         0.432143\n",
       "min         3.000000\n",
       "25%         4.000000\n",
       "50%         4.000000\n",
       "75%         4.000000\n",
       "max         5.000000\n",
       "Name: count, dtype: float64"
      ]
     },
     "metadata": {},
     "execution_count": 93
    }
   ],
   "source": [
    "# 유저별 count 중앙값에 대한 통계\n",
    "user_median = ratings.groupby('user_id')['count'].median()\n",
    "user_median.describe()"
   ]
  },
  {
   "source": [
    "실제로 좋아하는 영화를 찾기가 힘들어서 탑 30중 아는 영화들을 임의로 넣어봤습니다."
   ],
   "cell_type": "markdown",
   "metadata": {}
  },
  {
   "cell_type": "code",
   "execution_count": 94,
   "metadata": {},
   "outputs": [
    {
     "output_type": "execute_result",
     "data": {
      "text/plain": [
       "        user_id movie_id  count\n",
       "1000203    6040     1090    3.0\n",
       "1000205    6040     1094    5.0\n",
       "1000206    6040      562    5.0\n",
       "1000207    6040     1096    4.0\n",
       "1000208    6040     1097    4.0\n",
       "0          6041     2858    5.0\n",
       "1          6041     2028    5.0\n",
       "2          6041     2762    5.0\n",
       "3          6041      110    5.0\n",
       "4          6041        1    5.0"
      ],
      "text/html": "<div>\n<style scoped>\n    .dataframe tbody tr th:only-of-type {\n        vertical-align: middle;\n    }\n\n    .dataframe tbody tr th {\n        vertical-align: top;\n    }\n\n    .dataframe thead th {\n        text-align: right;\n    }\n</style>\n<table border=\"1\" class=\"dataframe\">\n  <thead>\n    <tr style=\"text-align: right;\">\n      <th></th>\n      <th>user_id</th>\n      <th>movie_id</th>\n      <th>count</th>\n    </tr>\n  </thead>\n  <tbody>\n    <tr>\n      <th>1000203</th>\n      <td>6040</td>\n      <td>1090</td>\n      <td>3.0</td>\n    </tr>\n    <tr>\n      <th>1000205</th>\n      <td>6040</td>\n      <td>1094</td>\n      <td>5.0</td>\n    </tr>\n    <tr>\n      <th>1000206</th>\n      <td>6040</td>\n      <td>562</td>\n      <td>5.0</td>\n    </tr>\n    <tr>\n      <th>1000207</th>\n      <td>6040</td>\n      <td>1096</td>\n      <td>4.0</td>\n    </tr>\n    <tr>\n      <th>1000208</th>\n      <td>6040</td>\n      <td>1097</td>\n      <td>4.0</td>\n    </tr>\n    <tr>\n      <th>0</th>\n      <td>6041</td>\n      <td>2858</td>\n      <td>5.0</td>\n    </tr>\n    <tr>\n      <th>1</th>\n      <td>6041</td>\n      <td>2028</td>\n      <td>5.0</td>\n    </tr>\n    <tr>\n      <th>2</th>\n      <td>6041</td>\n      <td>2762</td>\n      <td>5.0</td>\n    </tr>\n    <tr>\n      <th>3</th>\n      <td>6041</td>\n      <td>110</td>\n      <td>5.0</td>\n    </tr>\n    <tr>\n      <th>4</th>\n      <td>6041</td>\n      <td>1</td>\n      <td>5.0</td>\n    </tr>\n  </tbody>\n</table>\n</div>"
     },
     "metadata": {},
     "execution_count": 94
    }
   ],
   "source": [
    "# 내가 선호하는 영화 5가지를 추가.\n",
    "my_favorite = ['2858' , '2028' ,'2762' ,'110' ,'1']\n",
    "\n",
    "# '6041'이라는 user_id가 위 영화를 5회씩 감상했다고 가정하겠습니다.\n",
    "my_playlist = pd.DataFrame({'user_id': ['6041']*5, 'movie_id': my_favorite, 'count':[5.0]*5})\n",
    "\n",
    "if not ratings.isin({'user_id':['6041']})['user_id'].any():\n",
    "    # user_id에 '6041'이라는 데이터가 없다면\n",
    "    ratings = ratings.append(my_playlist)\n",
    "    # 위에 임의로 만든 my_favorite 데이터를 추가해 줍니다. \n",
    "\n",
    "ratings.drop('timestamp', inplace=True, axis=1)\n",
    "ratings.tail(10)       # 잘 추가되었는지 확인해 봅시다."
   ]
  },
  {
   "source": [
    "영화이름이 따로있어 불편하니 하나로 합쳐줍니다."
   ],
   "cell_type": "markdown",
   "metadata": {}
  },
  {
   "cell_type": "code",
   "execution_count": 95,
   "metadata": {},
   "outputs": [
    {
     "output_type": "execute_result",
     "data": {
      "text/plain": [
       "       user_id movie_id  count  \\\n",
       "0            1     1193    5.0   \n",
       "1            2     1193    5.0   \n",
       "2           12     1193    4.0   \n",
       "3           15     1193    4.0   \n",
       "4           17     1193    5.0   \n",
       "...        ...      ...    ...   \n",
       "836473    5851     3607    5.0   \n",
       "836474    5854     3026    4.0   \n",
       "836475    5854      690    3.0   \n",
       "836476    5938     2909    4.0   \n",
       "836477    5948     1360    5.0   \n",
       "\n",
       "                                                    title  \\\n",
       "0                  One Flew Over the Cuckoo's Nest (1975)   \n",
       "1                  One Flew Over the Cuckoo's Nest (1975)   \n",
       "2                  One Flew Over the Cuckoo's Nest (1975)   \n",
       "3                  One Flew Over the Cuckoo's Nest (1975)   \n",
       "4                  One Flew Over the Cuckoo's Nest (1975)   \n",
       "...                                                   ...   \n",
       "836473                           One Little Indian (1973)   \n",
       "836474                              Slaughterhouse (1987)   \n",
       "836475             Promise, The (Versprechen, Das) (1994)   \n",
       "836476        Five Wives, Three Secretaries and Me (1998)   \n",
       "836477  Identification of a Woman (Identificazione di ...   \n",
       "\n",
       "                       genre  \n",
       "0                      Drama  \n",
       "1                      Drama  \n",
       "2                      Drama  \n",
       "3                      Drama  \n",
       "4                      Drama  \n",
       "...                      ...  \n",
       "836473  Comedy|Drama|Western  \n",
       "836474                Horror  \n",
       "836475               Romance  \n",
       "836476           Documentary  \n",
       "836477                 Drama  \n",
       "\n",
       "[836478 rows x 5 columns]"
      ],
      "text/html": "<div>\n<style scoped>\n    .dataframe tbody tr th:only-of-type {\n        vertical-align: middle;\n    }\n\n    .dataframe tbody tr th {\n        vertical-align: top;\n    }\n\n    .dataframe thead th {\n        text-align: right;\n    }\n</style>\n<table border=\"1\" class=\"dataframe\">\n  <thead>\n    <tr style=\"text-align: right;\">\n      <th></th>\n      <th>user_id</th>\n      <th>movie_id</th>\n      <th>count</th>\n      <th>title</th>\n      <th>genre</th>\n    </tr>\n  </thead>\n  <tbody>\n    <tr>\n      <th>0</th>\n      <td>1</td>\n      <td>1193</td>\n      <td>5.0</td>\n      <td>One Flew Over the Cuckoo's Nest (1975)</td>\n      <td>Drama</td>\n    </tr>\n    <tr>\n      <th>1</th>\n      <td>2</td>\n      <td>1193</td>\n      <td>5.0</td>\n      <td>One Flew Over the Cuckoo's Nest (1975)</td>\n      <td>Drama</td>\n    </tr>\n    <tr>\n      <th>2</th>\n      <td>12</td>\n      <td>1193</td>\n      <td>4.0</td>\n      <td>One Flew Over the Cuckoo's Nest (1975)</td>\n      <td>Drama</td>\n    </tr>\n    <tr>\n      <th>3</th>\n      <td>15</td>\n      <td>1193</td>\n      <td>4.0</td>\n      <td>One Flew Over the Cuckoo's Nest (1975)</td>\n      <td>Drama</td>\n    </tr>\n    <tr>\n      <th>4</th>\n      <td>17</td>\n      <td>1193</td>\n      <td>5.0</td>\n      <td>One Flew Over the Cuckoo's Nest (1975)</td>\n      <td>Drama</td>\n    </tr>\n    <tr>\n      <th>...</th>\n      <td>...</td>\n      <td>...</td>\n      <td>...</td>\n      <td>...</td>\n      <td>...</td>\n    </tr>\n    <tr>\n      <th>836473</th>\n      <td>5851</td>\n      <td>3607</td>\n      <td>5.0</td>\n      <td>One Little Indian (1973)</td>\n      <td>Comedy|Drama|Western</td>\n    </tr>\n    <tr>\n      <th>836474</th>\n      <td>5854</td>\n      <td>3026</td>\n      <td>4.0</td>\n      <td>Slaughterhouse (1987)</td>\n      <td>Horror</td>\n    </tr>\n    <tr>\n      <th>836475</th>\n      <td>5854</td>\n      <td>690</td>\n      <td>3.0</td>\n      <td>Promise, The (Versprechen, Das) (1994)</td>\n      <td>Romance</td>\n    </tr>\n    <tr>\n      <th>836476</th>\n      <td>5938</td>\n      <td>2909</td>\n      <td>4.0</td>\n      <td>Five Wives, Three Secretaries and Me (1998)</td>\n      <td>Documentary</td>\n    </tr>\n    <tr>\n      <th>836477</th>\n      <td>5948</td>\n      <td>1360</td>\n      <td>5.0</td>\n      <td>Identification of a Woman (Identificazione di ...</td>\n      <td>Drama</td>\n    </tr>\n  </tbody>\n</table>\n<p>836478 rows × 5 columns</p>\n</div>"
     },
     "metadata": {},
     "execution_count": 95
    }
   ],
   "source": [
    "movies = pd.DataFrame(movies)\n",
    "\n",
    "data = pd.merge(ratings, movies)\n",
    "data"
   ]
  },
  {
   "source": [
    "### (3)Indexing\n",
    "\n",
    "원활한 인덱싱 작업을 위해 유니크한 값들로 모아줍니다."
   ],
   "cell_type": "markdown",
   "metadata": {}
  },
  {
   "cell_type": "code",
   "execution_count": 96,
   "metadata": {
    "tags": []
   },
   "outputs": [],
   "source": [
    "# 고유한 유저, 영화를 찾아내는 코드\n",
    "user_unique = data['user_id'].unique()\n",
    "movie_unique = data['title'].unique()\n",
    "\n",
    "# 유저, 영화 indexing 하는 코드 idx는 index의 약자입니다.\n",
    "user_to_idx = {v:k for k,v in enumerate(user_unique)}\n",
    "movie_to_idx = {v:k for k,v in enumerate(movie_unique)}"
   ]
  },
  {
   "cell_type": "code",
   "execution_count": 97,
   "metadata": {},
   "outputs": [
    {
     "output_type": "stream",
     "name": "stdout",
     "text": [
      "1679\n1980\n"
     ]
    }
   ],
   "source": [
    "# 인덱싱이 잘 되었는지 확인해 봅니다. \n",
    "print(user_to_idx[6040]) \n",
    "print(movie_to_idx['Tom and Huck (1995)'])"
   ]
  },
  {
   "cell_type": "code",
   "execution_count": 98,
   "metadata": {},
   "outputs": [
    {
     "output_type": "stream",
     "name": "stdout",
     "text": [
      "user_id column indexing OK!!\nmovie column indexing OK!!\n"
     ]
    },
    {
     "output_type": "execute_result",
     "data": {
      "text/plain": [
       "        user_id movie_id  count  title                 genre\n",
       "0             0     1193    5.0      0                 Drama\n",
       "1             1     1193    5.0      0                 Drama\n",
       "2             2     1193    4.0      0                 Drama\n",
       "3             3     1193    4.0      0                 Drama\n",
       "4             4     1193    5.0      0                 Drama\n",
       "...         ...      ...    ...    ...                   ...\n",
       "836473     1621     3607    5.0   3623  Comedy|Drama|Western\n",
       "836474     3481     3026    4.0   3624                Horror\n",
       "836475     3481      690    3.0   3625               Romance\n",
       "836476     4159     2909    4.0   3626           Documentary\n",
       "836477     1648     1360    5.0   3627                 Drama\n",
       "\n",
       "[836478 rows x 5 columns]"
      ],
      "text/html": "<div>\n<style scoped>\n    .dataframe tbody tr th:only-of-type {\n        vertical-align: middle;\n    }\n\n    .dataframe tbody tr th {\n        vertical-align: top;\n    }\n\n    .dataframe thead th {\n        text-align: right;\n    }\n</style>\n<table border=\"1\" class=\"dataframe\">\n  <thead>\n    <tr style=\"text-align: right;\">\n      <th></th>\n      <th>user_id</th>\n      <th>movie_id</th>\n      <th>count</th>\n      <th>title</th>\n      <th>genre</th>\n    </tr>\n  </thead>\n  <tbody>\n    <tr>\n      <th>0</th>\n      <td>0</td>\n      <td>1193</td>\n      <td>5.0</td>\n      <td>0</td>\n      <td>Drama</td>\n    </tr>\n    <tr>\n      <th>1</th>\n      <td>1</td>\n      <td>1193</td>\n      <td>5.0</td>\n      <td>0</td>\n      <td>Drama</td>\n    </tr>\n    <tr>\n      <th>2</th>\n      <td>2</td>\n      <td>1193</td>\n      <td>4.0</td>\n      <td>0</td>\n      <td>Drama</td>\n    </tr>\n    <tr>\n      <th>3</th>\n      <td>3</td>\n      <td>1193</td>\n      <td>4.0</td>\n      <td>0</td>\n      <td>Drama</td>\n    </tr>\n    <tr>\n      <th>4</th>\n      <td>4</td>\n      <td>1193</td>\n      <td>5.0</td>\n      <td>0</td>\n      <td>Drama</td>\n    </tr>\n    <tr>\n      <th>...</th>\n      <td>...</td>\n      <td>...</td>\n      <td>...</td>\n      <td>...</td>\n      <td>...</td>\n    </tr>\n    <tr>\n      <th>836473</th>\n      <td>1621</td>\n      <td>3607</td>\n      <td>5.0</td>\n      <td>3623</td>\n      <td>Comedy|Drama|Western</td>\n    </tr>\n    <tr>\n      <th>836474</th>\n      <td>3481</td>\n      <td>3026</td>\n      <td>4.0</td>\n      <td>3624</td>\n      <td>Horror</td>\n    </tr>\n    <tr>\n      <th>836475</th>\n      <td>3481</td>\n      <td>690</td>\n      <td>3.0</td>\n      <td>3625</td>\n      <td>Romance</td>\n    </tr>\n    <tr>\n      <th>836476</th>\n      <td>4159</td>\n      <td>2909</td>\n      <td>4.0</td>\n      <td>3626</td>\n      <td>Documentary</td>\n    </tr>\n    <tr>\n      <th>836477</th>\n      <td>1648</td>\n      <td>1360</td>\n      <td>5.0</td>\n      <td>3627</td>\n      <td>Drama</td>\n    </tr>\n  </tbody>\n</table>\n<p>836478 rows × 5 columns</p>\n</div>"
     },
     "metadata": {},
     "execution_count": 98
    }
   ],
   "source": [
    "# indexing을 통해 데이터 컬럼 내 값을 바꾸는 코드\n",
    "# dictionary 자료형의 get 함수는 https://wikidocs.net/16 을 참고하세요.\n",
    "\n",
    "# user_to_idx.get을 통해 user_id 컬럼의 모든 값을 인덱싱한 Series를 구해 봅시다. \n",
    "# 혹시 정상적으로 인덱싱되지 않은 row가 있다면 인덱스가 NaN이 될 테니 dropna()로 제거합니다. \n",
    "temp_user_data = data['user_id'].map(user_to_idx.get).dropna()\n",
    "if len(temp_user_data) == len(data):   # 모든 row가 정상적으로 인덱싱되었다면\n",
    "    print('user_id column indexing OK!!')\n",
    "    data['user_id'] = temp_user_data   # data['user_id']을 인덱싱된 Series로 교체해 줍니다. \n",
    "else:\n",
    "    print('user_id column indexing Fail!!')\n",
    "\n",
    "# artist_to_idx을 통해 artist 컬럼도 동일한 방식으로 인덱싱해 줍니다. \n",
    "temp_movie_data = data['title'].map(movie_to_idx.get).dropna()\n",
    "if len(temp_movie_data) == len(data):\n",
    "    print('movie column indexing OK!!')\n",
    "    data['title'] = temp_movie_data\n",
    "else:\n",
    "    print('movie_id column indexing Fail!!')\n",
    "\n",
    "data"
   ]
  },
  {
   "cell_type": "code",
   "execution_count": 99,
   "metadata": {},
   "outputs": [
    {
     "output_type": "stream",
     "name": "stdout",
     "text": [
      "0,836478\nRatio of only_one over all data is 0.00%\n"
     ]
    }
   ],
   "source": [
    "# 1회만 play한 데이터의 비율을 보는 코드\n",
    "only_one = data[data['count']<3]\n",
    "one, all_data = len(only_one), len(data)\n",
    "print(f'{one},{all_data}')\n",
    "print(f'Ratio of only_one over all data is {one/all_data:.2%}')\n",
    "# f-format에 대한 설명은 https://bit.ly/2DTLqYU"
   ]
  },
  {
   "source": [
    "### (4)CSR Matrix 만들기"
   ],
   "cell_type": "markdown",
   "metadata": {}
  },
  {
   "cell_type": "code",
   "execution_count": 100,
   "metadata": {},
   "outputs": [
    {
     "output_type": "execute_result",
     "data": {
      "text/plain": [
       "<6039x3628 sparse matrix of type '<class 'numpy.float64'>'\n",
       "\twith 836478 stored elements in Compressed Sparse Row format>"
      ]
     },
     "metadata": {},
     "execution_count": 100
    }
   ],
   "source": [
    "# 실습 위에 설명보고 이해해서 만들어보기\n",
    "from scipy.sparse import csr_matrix\n",
    "\n",
    "num_user = data['user_id'].nunique()\n",
    "num_movie = data['title'].nunique()\n",
    "\n",
    "csr_data = csr_matrix((data['count'], (data.user_id, data.title)), shape= (num_user, num_movie))\n",
    "csr_data"
   ]
  },
  {
   "cell_type": "code",
   "execution_count": 101,
   "metadata": {},
   "outputs": [
    {
     "output_type": "execute_result",
     "data": {
      "text/plain": [
       "array([5., 3., 3., ..., 3., 3., 3.])"
      ]
     },
     "metadata": {},
     "execution_count": 101
    }
   ],
   "source": [
    "csr_data.data"
   ]
  },
  {
   "cell_type": "code",
   "execution_count": 102,
   "metadata": {},
   "outputs": [
    {
     "output_type": "execute_result",
     "data": {
      "text/plain": [
       "array([   0,    1,    2, ..., 2158, 3512, 2947], dtype=int32)"
      ]
     },
     "metadata": {},
     "execution_count": 102
    }
   ],
   "source": [
    "csr_data.indices"
   ]
  },
  {
   "cell_type": "code",
   "execution_count": 103,
   "metadata": {},
   "outputs": [
    {
     "output_type": "execute_result",
     "data": {
      "text/plain": [
       "array([     0,     53,    169, ..., 836460, 836477, 836478], dtype=int32)"
      ]
     },
     "metadata": {},
     "execution_count": 103
    }
   ],
   "source": [
    "csr_data.indptr"
   ]
  },
  {
   "source": [
    "## 2.모델 학습하기"
   ],
   "cell_type": "markdown",
   "metadata": {}
  },
  {
   "cell_type": "code",
   "execution_count": 104,
   "metadata": {},
   "outputs": [],
   "source": [
    "from implicit.als import AlternatingLeastSquares\n",
    "import os\n",
    "import numpy as np\n",
    "\n",
    "# implicit 라이브러리에서 권장하고 있는 부분입니다. 학습 내용과는 무관합니다.\n",
    "os.environ['OPENBLAS_NUM_THREADS']='1'\n",
    "os.environ['KMP_DUPLICATE_LIB_OK']='True'\n",
    "os.environ['MKL_NUM_THREADS']='1'"
   ]
  },
  {
   "cell_type": "code",
   "execution_count": 105,
   "metadata": {},
   "outputs": [],
   "source": [
    "# Implicit AlternatingLeastSquares 모델의 선언\n",
    "als_model = AlternatingLeastSquares(factors=100, regularization=0.01, use_gpu=False, iterations=15, dtype=np.float32)"
   ]
  },
  {
   "cell_type": "code",
   "execution_count": 106,
   "metadata": {},
   "outputs": [
    {
     "output_type": "execute_result",
     "data": {
      "text/plain": [
       "<3628x6039 sparse matrix of type '<class 'numpy.float64'>'\n",
       "\twith 836478 stored elements in Compressed Sparse Column format>"
      ]
     },
     "metadata": {},
     "execution_count": 106
    }
   ],
   "source": [
    "# als 모델은 input으로 (item X user 꼴의 matrix를 받기 때문에 Transpose해줍니다.)\n",
    "csr_data_transpose = csr_data.T\n",
    "csr_data_transpose"
   ]
  },
  {
   "cell_type": "code",
   "execution_count": 107,
   "metadata": {},
   "outputs": [
    {
     "output_type": "stream",
     "name": "stderr",
     "text": [
      "100%|██████████| 15/15 [00:02<00:00,  5.17it/s]\n"
     ]
    }
   ],
   "source": [
    "# 모델 훈련\n",
    "als_model.fit(csr_data_transpose)"
   ]
  },
  {
   "cell_type": "code",
   "execution_count": 108,
   "metadata": {},
   "outputs": [],
   "source": [
    "my_user_id, my_favorite_movie = user_to_idx[6040], movie_to_idx['Toy Story (1995)']\n",
    "my_user_id_vector, my_favorite_movie_vector = als_model.user_factors[my_user_id], als_model.item_factors[my_favorite_movie]\n"
   ]
  },
  {
   "cell_type": "code",
   "execution_count": 109,
   "metadata": {},
   "outputs": [
    {
     "output_type": "execute_result",
     "data": {
      "text/plain": [
       "array([-2.9799657 , -0.19578636,  0.98495466, -0.94070935,  0.30443957,\n",
       "       -2.7571242 , -0.63466364, -1.0983442 , -3.0963655 , -0.8766545 ,\n",
       "        3.4119813 , -1.6619668 , -0.44841632, -0.87935996,  4.2904773 ,\n",
       "        1.5283465 , -0.78724366,  2.571357  ,  0.9141369 , -2.2462075 ,\n",
       "        3.852119  , -2.0921674 ,  1.9276204 , -0.21155882, -3.2359107 ,\n",
       "        4.8810215 ,  3.6684494 , -1.6069667 ,  3.894351  ,  3.2374759 ,\n",
       "       -3.3065093 ,  3.7665746 ,  1.627389  , -0.13452272,  7.2186003 ,\n",
       "        3.7849846 ,  1.3347517 ,  1.0247644 , -1.9007475 , -0.17294303,\n",
       "       -3.1685991 ,  3.073799  , -0.10902148, -0.7115511 ,  2.5918095 ,\n",
       "       -4.8107624 , -1.0469105 ,  0.5735138 ,  0.7428269 , -2.3426795 ,\n",
       "        1.3974453 ,  0.9722313 , -2.5821223 ,  0.49079236,  3.9853199 ,\n",
       "        2.5175095 ,  3.4083261 , -1.27448   , -0.96208745,  2.2606509 ,\n",
       "        0.5763981 ,  1.8012725 , -0.3941518 , -0.38638654,  3.2937198 ,\n",
       "       -3.3980439 ,  4.4403443 ,  2.7315793 ,  1.0014318 ,  1.2066476 ,\n",
       "        1.1198163 , -1.6554177 ,  2.9112985 , -0.4103912 ,  5.1265993 ,\n",
       "        0.06569303, -1.792392  , -0.97507554, -0.3257716 , -0.43420202,\n",
       "        1.1568649 , -3.5743556 ,  3.7593632 ,  0.15329815, -1.3084185 ,\n",
       "       -2.2470973 ,  1.4775661 , -3.4048579 , -1.0571086 ,  1.3087777 ,\n",
       "       -4.4251494 ,  5.0962152 , -0.21524471,  3.8671699 , -3.4013348 ,\n",
       "       -2.2128694 ,  0.4646059 ,  2.833397  ,  3.0342956 ,  1.1430124 ],\n",
       "      dtype=float32)"
      ]
     },
     "metadata": {},
     "execution_count": 109
    }
   ],
   "source": [
    "my_user_id_vector"
   ]
  },
  {
   "cell_type": "code",
   "execution_count": 110,
   "metadata": {},
   "outputs": [
    {
     "output_type": "execute_result",
     "data": {
      "text/plain": [
       "array([-0.0138505 , -0.03048646,  0.04808879,  0.02657401,  0.00247965,\n",
       "       -0.00116293, -0.00986978, -0.00793661,  0.00516484,  0.00570635,\n",
       "        0.03655091, -0.00172029, -0.0136339 ,  0.03260032, -0.02592358,\n",
       "       -0.02724183,  0.03371146, -0.00064807,  0.02155118,  0.01027151,\n",
       "        0.01678084,  0.00475532, -0.01009163,  0.01787827,  0.00812158,\n",
       "        0.04022009,  0.00607376, -0.00629774,  0.03441702,  0.01302734,\n",
       "        0.00494863,  0.00665499, -0.00571671,  0.02321709,  0.00925763,\n",
       "       -0.00213682, -0.00428238, -0.0380539 , -0.02749609, -0.00525484,\n",
       "        0.00328178,  0.01746348, -0.00913205,  0.01753276,  0.01833621,\n",
       "       -0.00185144, -0.0343002 ,  0.00887396, -0.00192347,  0.01486891,\n",
       "        0.02259343,  0.04220835,  0.00468416,  0.01909536,  0.0242788 ,\n",
       "       -0.00307549, -0.0025563 , -0.01728071,  0.01978232, -0.02337266,\n",
       "        0.01025276,  0.0492621 ,  0.01546435, -0.00809153, -0.00882009,\n",
       "       -0.02048151,  0.00106605,  0.03050644, -0.01300792,  0.02807405,\n",
       "       -0.01725543, -0.01206978,  0.00061296, -0.00538984, -0.01283319,\n",
       "        0.00444938, -0.00492084, -0.00765391, -0.00076454,  0.0345714 ,\n",
       "       -0.00315824,  0.01490665,  0.00140873,  0.02391604, -0.01319309,\n",
       "        0.03797095,  0.00896799,  0.00913616, -0.00699564,  0.00388377,\n",
       "        0.00849026, -0.01567145,  0.00309864,  0.03779548,  0.01316989,\n",
       "       -0.0149992 ,  0.01063796,  0.00682709,  0.02188205,  0.00582804],\n",
       "      dtype=float32)"
      ]
     },
     "metadata": {},
     "execution_count": 110
    }
   ],
   "source": [
    "my_favorite_movie_vector"
   ]
  },
  {
   "cell_type": "code",
   "execution_count": 111,
   "metadata": {},
   "outputs": [
    {
     "output_type": "execute_result",
     "data": {
      "text/plain": [
       "0.8292246"
      ]
     },
     "metadata": {},
     "execution_count": 111
    }
   ],
   "source": [
    "# zimin과 black_eyed_peas를 내적하는 코드\n",
    "np.dot(my_user_id_vector, my_favorite_movie_vector)"
   ]
  },
  {
   "source": [
    "## 3.테스트하기"
   ],
   "cell_type": "markdown",
   "metadata": {}
  },
  {
   "cell_type": "code",
   "execution_count": 112,
   "metadata": {},
   "outputs": [
    {
     "output_type": "execute_result",
     "data": {
      "text/plain": [
       "0.002244696"
      ]
     },
     "metadata": {},
     "execution_count": 112
    }
   ],
   "source": [
    "test = movie_to_idx['Heat (1995)']\n",
    "test_vector = als_model.item_factors[test]\n",
    "np.dot(my_user_id_vector, test_vector)"
   ]
  },
  {
   "cell_type": "code",
   "execution_count": 113,
   "metadata": {},
   "outputs": [
    {
     "output_type": "execute_result",
     "data": {
      "text/plain": [
       "[(1980, 0.99999994),\n",
       " (2017, 0.80509835),\n",
       " (2004, 0.794873),\n",
       " (2002, 0.79272735),\n",
       " (1995, 0.77816135),\n",
       " (3108, 0.7643511),\n",
       " (1978, 0.75816286),\n",
       " (2339, 0.75607073),\n",
       " (2659, 0.74872464),\n",
       " (2021, 0.7472839),\n",
       " (2023, 0.74525076),\n",
       " (1617, 0.73336375),\n",
       " (593, 0.73332226),\n",
       " (2001, 0.72741926),\n",
       " (2006, 0.7217523)]"
      ]
     },
     "metadata": {},
     "execution_count": 113
    }
   ],
   "source": [
    "favorite_movie = 'Tom and Huck (1995)'\n",
    "movie_idx = movie_to_idx[favorite_movie]\n",
    "similar_movie = als_model.similar_items(movie_idx, N=15)\n",
    "similar_movie"
   ]
  },
  {
   "cell_type": "code",
   "execution_count": 114,
   "metadata": {},
   "outputs": [
    {
     "output_type": "execute_result",
     "data": {
      "text/plain": [
       "['Tom and Huck (1995)',\n",
       " 'Pagemaster, The (1994)',\n",
       " 'Far From Home: The Adventures of Yellow Dog (1995)',\n",
       " 'Amazing Panda Adventure, The (1995)',\n",
       " 'Wild America (1997)',\n",
       " 'Lassie (1994)',\n",
       " 'Andre (1994)',\n",
       " 'Alaska (1996)',\n",
       " 'Tall Tale (1994)',\n",
       " 'Theodore Rex (1995)',\n",
       " 'Flipper (1996)',\n",
       " 'Little Rascals, The (1994)',\n",
       " 'Homeward Bound: The Incredible Journey (1993)',\n",
       " 'King and I, The (1999)',\n",
       " 'Free Willy 2: The Adventure Home (1995)']"
      ]
     },
     "metadata": {},
     "execution_count": 114
    }
   ],
   "source": [
    "#artist_to_idx 를 뒤집어, index로부터 artist 이름을 얻는 dict를 생성합니다. \n",
    "idx_to_movie = {v:k for k,v in movie_to_idx.items()}\n",
    "[idx_to_movie[i[0]] for i in similar_movie]"
   ]
  },
  {
   "cell_type": "code",
   "execution_count": 115,
   "metadata": {},
   "outputs": [],
   "source": [
    "def get_similar_movies(title: str):\n",
    "    \n",
    "    movie_idx = movie_to_idx[title]\n",
    "\n",
    "    similar_movies = als_model.similar_items(movie_idx)\n",
    "    similar_movies = [idx_to_movie[i[0]] for i in similar_movies]\n",
    "\n",
    "    return similar_movies\n"
   ]
  },
  {
   "source": [
    "비슷한 영화가 추천되는지 확인해봅니다."
   ],
   "cell_type": "markdown",
   "metadata": {}
  },
  {
   "cell_type": "code",
   "execution_count": 116,
   "metadata": {},
   "outputs": [
    {
     "output_type": "execute_result",
     "data": {
      "text/plain": [
       "['Nixon (1995)',\n",
       " 'He Got Game (1998)',\n",
       " 'People vs. Larry Flynt, The (1996)',\n",
       " 'Primary Colors (1998)',\n",
       " 'Cobb (1994)',\n",
       " 'American Buffalo (1996)',\n",
       " 'Blue Chips (1994)',\n",
       " \"Mo' Better Blues (1990)\",\n",
       " 'Ghosts of Mississippi (1996)',\n",
       " 'Rosewood (1997)']"
      ]
     },
     "metadata": {},
     "execution_count": 116
    }
   ],
   "source": [
    "get_similar_movies('Nixon (1995)')"
   ]
  },
  {
   "source": [
    "해당 유저가 좋아할만한 영화를 추천해줍니다."
   ],
   "cell_type": "markdown",
   "metadata": {}
  },
  {
   "cell_type": "code",
   "execution_count": 117,
   "metadata": {},
   "outputs": [
    {
     "output_type": "execute_result",
     "data": {
      "text/plain": [
       "[(1412, 1.1387906),\n",
       " (1143, 1.0887308),\n",
       " (1176, 1.0693319),\n",
       " (1000, 1.0412812),\n",
       " (83, 1.0078323),\n",
       " (169, 0.9790127),\n",
       " (707, 0.96910954),\n",
       " (1363, 0.9637522),\n",
       " (1512, 0.9473661),\n",
       " (784, 0.9432775),\n",
       " (47, 0.9361787),\n",
       " (868, 0.92718375),\n",
       " (133, 0.9053448),\n",
       " (312, 0.90292907),\n",
       " (481, 0.88084376),\n",
       " (178, 0.87035483),\n",
       " (243, 0.8593823),\n",
       " (203, 0.8587768),\n",
       " (1501, 0.8431135),\n",
       " (231, 0.82074875)]"
      ]
     },
     "metadata": {},
     "execution_count": 117
    }
   ],
   "source": [
    "user = user_to_idx[6040]\n",
    "# recommend에서는 user*item CSR Matrix를 받습니다.\n",
    "movie_recommended = als_model.recommend(user, csr_data, N=20, filter_already_liked_items=True)\n",
    "movie_recommended"
   ]
  },
  {
   "cell_type": "code",
   "execution_count": 118,
   "metadata": {},
   "outputs": [
    {
     "output_type": "execute_result",
     "data": {
      "text/plain": [
       "['Right Stuff, The (1983)',\n",
       " 'Do the Right Thing (1989)',\n",
       " 'Sex, Lies, and Videotape (1989)',\n",
       " 'Roger & Me (1989)',\n",
       " 'Gandhi (1982)',\n",
       " 'Fish Called Wanda, A (1988)',\n",
       " 'Sting, The (1973)',\n",
       " 'Drugstore Cowboy (1989)',\n",
       " 'Buena Vista Social Club (1999)',\n",
       " '400 Blows, The (Les Quatre cents coups) (1959)',\n",
       " 'To Kill a Mockingbird (1962)',\n",
       " 'Heavenly Creatures (1994)',\n",
       " 'Ed Wood (1994)',\n",
       " 'Glengarry Glen Ross (1992)',\n",
       " 'Kolya (1996)',\n",
       " 'Unforgiven (1992)',\n",
       " 'Ghostbusters (1984)',\n",
       " 'Delicatessen (1991)',\n",
       " 'When We Were Kings (1996)',\n",
       " 'Insider, The (1999)']"
      ]
     },
     "metadata": {},
     "execution_count": 118
    }
   ],
   "source": [
    "[idx_to_movie[i[0]] for i in movie_recommended]"
   ]
  },
  {
   "source": [
    "이 영화들을 왜 추천해줬는지 알아보기 위해 임의의 영화를 한번 넣어봅니다."
   ],
   "cell_type": "markdown",
   "metadata": {}
  },
  {
   "cell_type": "code",
   "execution_count": 119,
   "metadata": {},
   "outputs": [],
   "source": [
    "recommended_movie = movie_to_idx['Do the Right Thing (1989)']\n",
    "explain = als_model.explain(user, csr_data, itemid=recommended_movie)"
   ]
  },
  {
   "cell_type": "code",
   "execution_count": 120,
   "metadata": {},
   "outputs": [
    {
     "output_type": "execute_result",
     "data": {
      "text/plain": [
       "[('Crimes and Misdemeanors (1989)', 0.06650850358194574),\n",
       " ('Raging Bull (1980)', 0.053629926434732605),\n",
       " ('Say Anything... (1989)', 0.04837020374698174),\n",
       " ('Heathers (1989)', 0.047523874034109535),\n",
       " ('Dog Day Afternoon (1975)', 0.03899915980939479),\n",
       " ('Player, The (1992)', 0.03675375696970611),\n",
       " ('12 Angry Men (1957)', 0.036025131747606354),\n",
       " ('Wings of Desire (Der Himmel über Berlin) (1987)', 0.0349416658923024),\n",
       " ('Shall We Dance? (Shall We Dansu?) (1996)', 0.033633106226896615),\n",
       " ('Spartacus (1960)', 0.03358890650563135)]"
      ]
     },
     "metadata": {},
     "execution_count": 120
    }
   ],
   "source": [
    "[(idx_to_movie[i[0]], i[1]) for i in explain[1]]"
   ]
  },
  {
   "source": [
    "나름 비슷한 영화를 추천한것을 확인할 수 있습니다.\n",
    "\n",
    "## 4.회고\n",
    "\n",
    "이번 프로젝트는 다른 것도 중요하지만 dictionary와 merge의 사용법을 익힌 것이 기억에 남는다. 두가지를 사용하지 않고 테스트 부분까지 와서 데이터 처리하기가 까다로워 전부 뒤집어 엎고 처음부터 다시 만들었는데 어느 쪽이 더 좋은 선택이었는지는 모르겠지만 저 두 기능을 사용한 것이 코드가 더 간결한 것 같다."
   ],
   "cell_type": "markdown",
   "metadata": {}
  }
 ]
}